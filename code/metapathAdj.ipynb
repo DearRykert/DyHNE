{
 "cells": [
  {
   "cell_type": "code",
   "execution_count": 2,
   "metadata": {},
   "outputs": [],
   "source": [
    "import os\n",
    "import numpy as np\n",
    "import scipy.io\n",
    "import pandas as pd"
   ]
  },
  {
   "cell_type": "code",
   "execution_count": 16,
   "metadata": {},
   "outputs": [
    {
     "data": {
      "text/plain": [
       "(14376, 14475, 20)"
      ]
     },
     "execution_count": 16,
     "metadata": {},
     "output_type": "execute_result"
    }
   ],
   "source": [
    "dblp_data_fold = '../data/dblp/'\n",
    "pa_data = pd.read_csv(os.path.join(dblp_data_fold,'paper_author.txt'),sep='\\t',names={'PA_P','PA_A'})\n",
    "pc_data = pd.read_csv(os.path.join(dblp_data_fold,'paper_conf.txt'),sep='\\t',names=['PC_P','PC_C'])\n",
    "n_p = len(set(pa_data['PA_P']))\n",
    "n_a = len(set(pa_data['PA_A']))\n",
    "n_c = len(set(pc_data['PC_C']))\n",
    "n_p, n_a, n_c"
   ]
  },
  {
   "cell_type": "code",
   "execution_count": 18,
   "metadata": {},
   "outputs": [],
   "source": [
    "map_pa_data = pa_data.copy()\n",
    "map_pc_data = pc_data.copy()\n",
    "map_pa_data.iloc[:, 1] = map_pa_data.iloc[:, 1].apply(lambda x: x + n_p)\n",
    "map_pc_data.iloc[:, 1] = map_pc_data.iloc[:, 1].apply(lambda x: x + n_p + n_a)"
   ]
  },
  {
   "cell_type": "code",
   "execution_count": 25,
   "metadata": {},
   "outputs": [
    {
     "data": {
      "text/plain": [
       "0"
      ]
     },
     "execution_count": 25,
     "metadata": {},
     "output_type": "execute_result"
    }
   ],
   "source": [
    "min(map_pa_data['PA_P'])"
   ]
  },
  {
   "cell_type": "code",
   "execution_count": 40,
   "metadata": {},
   "outputs": [],
   "source": [
    "from scipy.sparse import csr_matrix\n",
    "row = np.array(pa_data['PA_P']).tolist()\n",
    "col = np.array(pa_data['PA_A']).tolist()\n",
    "data = np.ones(len(row))\n",
    "pa_csr_mtx = csr_matrix((data, (row, col)), shape=(n_p, n_a))"
   ]
  },
  {
   "cell_type": "code",
   "execution_count": 47,
   "metadata": {},
   "outputs": [],
   "source": [
    "row = np.array(pc_data['PC_P']).tolist()\n",
    "col = np.array(pc_data['PC_C']).tolist()\n",
    "data = np.ones(len(row))\n",
    "pc_csr_mtx = csr_matrix((data, (row, col)), shape=(n_p, n_c))"
   ]
  },
  {
   "cell_type": "code",
   "execution_count": 48,
   "metadata": {},
   "outputs": [
    {
     "data": {
      "text/plain": [
       "(<14376x20 sparse matrix of type '<type 'numpy.float64'>'\n",
       " \twith 14376 stored elements in Compressed Sparse Row format>,\n",
       " <14475x14376 sparse matrix of type '<type 'numpy.float64'>'\n",
       " \twith 41794 stored elements in Compressed Sparse Column format>)"
      ]
     },
     "execution_count": 48,
     "metadata": {},
     "output_type": "execute_result"
    }
   ],
   "source": [
    "pc_csr_mtx, pa_csr_mtx.transpose()"
   ]
  },
  {
   "cell_type": "code",
   "execution_count": 51,
   "metadata": {},
   "outputs": [],
   "source": [
    "apc_csr_mtx = pa_csr_mtx.transpose() * pc_csr_mtx"
   ]
  },
  {
   "cell_type": "code",
   "execution_count": 52,
   "metadata": {},
   "outputs": [],
   "source": [
    "apcpa_csr_mtx = apc_csr_mtx * apc_csr_mtx.transpose()"
   ]
  },
  {
   "cell_type": "code",
   "execution_count": 53,
   "metadata": {},
   "outputs": [],
   "source": [
    "pcp_csr_mtx = pc_csr_mtx * pc_csr_mtx.transpose()\n",
    "cpa_csr_mtx = pc_csr_mtx.transpose() * pa_csr_mtx\n",
    "cpapc_csr_mtx = cpa_csr_mtx * cpa_csr_mtx.transpose()"
   ]
  },
  {
   "cell_type": "code",
   "execution_count": 72,
   "metadata": {},
   "outputs": [
    {
     "data": {
      "text/plain": [
       "(array([    0,     0,     1, ..., 14375, 14375, 14375], dtype=int32),\n",
       " array([7383, 8503, 2492, ..., 3346, 3822, 9024], dtype=int32))"
      ]
     },
     "execution_count": 72,
     "metadata": {},
     "output_type": "execute_result"
    }
   ],
   "source": [
    "np.nonzero(pa_csr_mtx)"
   ]
  },
  {
   "cell_type": "code",
   "execution_count": 98,
   "metadata": {},
   "outputs": [],
   "source": [
    "# metapath matrix\n",
    "\n",
    "row = np.concatenate((np.nonzero(apcpa_csr_mtx)[0],np.nonzero(pa_csr_mtx.transpose())[0],np.nonzero(apc_csr_mtx)[0],\n",
    "               np.nonzero(pa_csr_mtx)[0]+n_a,np.nonzero(pcp_csr_mtx)[0]+n_a,np.nonzero(pc_csr_mtx)[0]+n_a,\n",
    "               np.nonzero(cpa_csr_mtx)[0]+n_a+n_p,np.nonzero(pc_csr_mtx.transpose())[0]+n_a+n_p,np.nonzero(cpapc_csr_mtx)[0]+n_a+n_p))\n",
    "\n",
    "col = np.concatenate((np.nonzero(apcpa_csr_mtx)[1],np.nonzero(pa_csr_mtx.transpose())[1],np.nonzero(apc_csr_mtx)[1]+n_a+n_p,\n",
    "               np.nonzero(pa_csr_mtx)[1],np.nonzero(pcp_csr_mtx)[1]+n_a,np.nonzero(pc_csr_mtx)[1]+n_a+n_p,\n",
    "               np.nonzero(cpa_csr_mtx)[1],np.nonzero(pc_csr_mtx.transpose())[1]+n_a,np.nonzero(cpapc_csr_mtx)[1]+n_a+n_p))"
   ]
  },
  {
   "cell_type": "code",
   "execution_count": 100,
   "metadata": {},
   "outputs": [
    {
     "data": {
      "text/plain": [
       "(28870, 28870, 28851)"
      ]
     },
     "execution_count": 100,
     "metadata": {},
     "output_type": "execute_result"
    }
   ],
   "source": [
    "max(row), max(col), n_a+n_p"
   ]
  },
  {
   "cell_type": "code",
   "execution_count": 101,
   "metadata": {},
   "outputs": [],
   "source": [
    "data = np.concatenate((apcpa_csr_mtx.data,pa_csr_mtx.transpose().data,apc_csr_mtx.data,\n",
    "                pa_csr_mtx.data,pcp_csr_mtx.data,pc_csr_mtx.data,\n",
    "                cpa_csr_mtx.data,pc_csr_mtx.transpose().data,cpapc_csr_mtx.data))\n",
    "metapath_csr_mtx = csr_matrix((data, (row, col)), shape=(n_a+n_p+n_c, n_a+n_p+n_c))"
   ]
  },
  {
   "cell_type": "code",
   "execution_count": 106,
   "metadata": {},
   "outputs": [
    {
     "data": {
      "text/plain": [
       "matrix([[  1.00000000e+00,   0.00000000e+00,   0.00000000e+00, ...,\n",
       "           0.00000000e+00,   0.00000000e+00,   0.00000000e+00],\n",
       "        [  0.00000000e+00,   1.00000000e+00,   1.00000000e+00, ...,\n",
       "           0.00000000e+00,   0.00000000e+00,   0.00000000e+00],\n",
       "        [  0.00000000e+00,   1.00000000e+00,   1.00000000e+00, ...,\n",
       "           0.00000000e+00,   0.00000000e+00,   1.00000000e+00],\n",
       "        ..., \n",
       "        [  0.00000000e+00,   0.00000000e+00,   0.00000000e+00, ...,\n",
       "           1.37400000e+03,   8.10000000e+01,   9.61800000e+03],\n",
       "        [  0.00000000e+00,   0.00000000e+00,   0.00000000e+00, ...,\n",
       "           8.89000000e+02,   8.98000000e+02,   5.94100000e+03],\n",
       "        [  0.00000000e+00,   0.00000000e+00,   1.00000000e+00, ...,\n",
       "           7.80000000e+01,   5.40000000e+01,   5.90000000e+01]])"
      ]
     },
     "execution_count": 106,
     "metadata": {},
     "output_type": "execute_result"
    }
   ],
   "source": [
    "metapath_csr_mtx.todense()"
   ]
  },
  {
   "cell_type": "code",
   "execution_count": 110,
   "metadata": {},
   "outputs": [],
   "source": [
    "import scipy.io\n",
    "scipy.io.savemat(os.path.join(dblp_data_fold,'metapath_mtx'),{\"metapath_mtx\":metapath_csr_mtx})"
   ]
  },
  {
   "cell_type": "code",
   "execution_count": null,
   "metadata": {},
   "outputs": [],
   "source": []
  }
 ],
 "metadata": {
  "kernelspec": {
   "display_name": "Python 2",
   "language": "python",
   "name": "python2"
  },
  "language_info": {
   "codemirror_mode": {
    "name": "ipython",
    "version": 2
   },
   "file_extension": ".py",
   "mimetype": "text/x-python",
   "name": "python",
   "nbconvert_exporter": "python",
   "pygments_lexer": "ipython2",
   "version": "2.7.13"
  }
 },
 "nbformat": 4,
 "nbformat_minor": 2
}
